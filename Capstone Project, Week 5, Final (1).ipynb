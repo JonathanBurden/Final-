{
 "cells": [
  {
   "cell_type": "code",
   "execution_count": 1,
   "metadata": {
    "scrolled": true
   },
   "outputs": [
    {
     "name": "stdout",
     "output_type": "stream",
     "text": [
      "Collecting package metadata (current_repodata.json): ...working... done\n",
      "Solving environment: ...working... done\n",
      "\n",
      "# All requested packages already installed.\n",
      "\n",
      "Done\n"
     ]
    }
   ],
   "source": [
    "!conda install -c conda-forge folium=0.5.0 --yes\n",
    "import folium \n",
    "import pandas as pd\n",
    "import numpy as np \n",
    "print('Done')"
   ]
  },
  {
   "cell_type": "code",
   "execution_count": 24,
   "metadata": {},
   "outputs": [
    {
     "data": {
      "text/html": [
       "<div style=\"width:100%;\"><div style=\"position:relative;width:100%;height:0;padding-bottom:60%;\"><span style=\"color:#565656\">Make this Notebook Trusted to load map: File -> Trust Notebook</span><iframe src=\"about:blank\" style=\"position:absolute;width:100%;height:100%;left:0;top:0;border:none !important;\" data-html=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 onload=\"this.contentDocument.open();this.contentDocument.write(atob(this.getAttribute('data-html')));this.contentDocument.close();\" allowfullscreen webkitallowfullscreen mozallowfullscreen></iframe></div></div>"
      ],
      "text/plain": [
       "<folium.folium.Map at 0x1984363b048>"
      ]
     },
     "execution_count": 24,
     "metadata": {},
     "output_type": "execute_result"
    }
   ],
   "source": [
    "m = folium.Map(location=[51.507282, -0.127584], zoom_start=10, tiles= 'Stamen Terrain')\n",
    "\n",
    "folium.Marker([51.50234, -0.2123], \n",
    "             popup='Crime').add_to(m)\n",
    "m"
   ]
  },
  {
   "cell_type": "code",
   "execution_count": 4,
   "metadata": {},
   "outputs": [
    {
     "data": {
      "text/plain": [
       "2"
      ]
     },
     "execution_count": 4,
     "metadata": {},
     "output_type": "execute_result"
    }
   ],
   "source": [
    "1 + 1"
   ]
  },
  {
   "cell_type": "code",
   "execution_count": 118,
   "metadata": {},
   "outputs": [
    {
     "data": {
      "text/html": [
       "<div>\n",
       "<style scoped>\n",
       "    .dataframe tbody tr th:only-of-type {\n",
       "        vertical-align: middle;\n",
       "    }\n",
       "\n",
       "    .dataframe tbody tr th {\n",
       "        vertical-align: top;\n",
       "    }\n",
       "\n",
       "    .dataframe thead th {\n",
       "        text-align: right;\n",
       "    }\n",
       "</style>\n",
       "<table border=\"1\" class=\"dataframe\">\n",
       "  <thead>\n",
       "    <tr style=\"text-align: right;\">\n",
       "      <th></th>\n",
       "      <th>Borough</th>\n",
       "      <th>Crimes</th>\n",
       "    </tr>\n",
       "  </thead>\n",
       "  <tbody>\n",
       "    <tr>\n",
       "      <th>0</th>\n",
       "      <td>Westminster</td>\n",
       "      <td>71034</td>\n",
       "    </tr>\n",
       "    <tr>\n",
       "      <th>1</th>\n",
       "      <td>Southwark</td>\n",
       "      <td>38862</td>\n",
       "    </tr>\n",
       "    <tr>\n",
       "      <th>2</th>\n",
       "      <td>Camden</td>\n",
       "      <td>38691</td>\n",
       "    </tr>\n",
       "    <tr>\n",
       "      <th>3</th>\n",
       "      <td>Newham</td>\n",
       "      <td>38654</td>\n",
       "    </tr>\n",
       "    <tr>\n",
       "      <th>4</th>\n",
       "      <td>Lambeth</td>\n",
       "      <td>37589</td>\n",
       "    </tr>\n",
       "    <tr>\n",
       "      <th>5</th>\n",
       "      <td>Tower Hamlets</td>\n",
       "      <td>36275</td>\n",
       "    </tr>\n",
       "    <tr>\n",
       "      <th>6</th>\n",
       "      <td>Hackney</td>\n",
       "      <td>33948</td>\n",
       "    </tr>\n",
       "    <tr>\n",
       "      <th>7</th>\n",
       "      <td>Croydon</td>\n",
       "      <td>33546</td>\n",
       "    </tr>\n",
       "    <tr>\n",
       "      <th>8</th>\n",
       "      <td>Haringey</td>\n",
       "      <td>33531</td>\n",
       "    </tr>\n",
       "    <tr>\n",
       "      <th>9</th>\n",
       "      <td>Brent</td>\n",
       "      <td>33039</td>\n",
       "    </tr>\n",
       "  </tbody>\n",
       "</table>\n",
       "</div>"
      ],
      "text/plain": [
       "         Borough  Crimes\n",
       "0    Westminster   71034\n",
       "1      Southwark   38862\n",
       "2         Camden   38691\n",
       "3         Newham   38654\n",
       "4        Lambeth   37589\n",
       "5  Tower Hamlets   36275\n",
       "6        Hackney   33948\n",
       "7        Croydon   33546\n",
       "8       Haringey   33531\n",
       "9          Brent   33039"
      ]
     },
     "execution_count": 118,
     "metadata": {},
     "output_type": "execute_result"
    }
   ],
   "source": [
    "df_crime_2018_19 = pd.read_csv(r'C:\\Users\\Jonathan\\Documents\\Python\\London_Crime.csv') \n",
    "df_crime_2018_19.head(10)"
   ]
  },
  {
   "cell_type": "code",
   "execution_count": 119,
   "metadata": {},
   "outputs": [],
   "source": [
    "df_crime_2018_19.sort_values(['Crimes'], ascending=False, axis=0, inplace=True) \n"
   ]
  },
  {
   "cell_type": "code",
   "execution_count": 120,
   "metadata": {},
   "outputs": [
    {
     "name": "stdout",
     "output_type": "stream",
     "text": [
      "Done\n"
     ]
    }
   ],
   "source": [
    "import matplotlib.pyplot as plt\n",
    "print('Done')\n"
   ]
  },
  {
   "cell_type": "code",
   "execution_count": 121,
   "metadata": {},
   "outputs": [],
   "source": [
    "df_crime_2018_19.set_index('Borough', inplace=True) "
   ]
  },
  {
   "cell_type": "code",
   "execution_count": 124,
   "metadata": {},
   "outputs": [
    {
     "data": {
      "image/png": "[encoded data removed]",
      "text/plain": [
       "<Figure size 720x432 with 1 Axes>"
      ]
     },
     "metadata": {
      "needs_background": "light"
     },
     "output_type": "display_data"
    }
   ],
   "source": [
    "\n",
    "df_crime_2018_19.plot(kind='bar', \n",
    "                      figsize=(10, 6),\n",
    "                      width = 0.8,\n",
    "                      color = 'navy')\n",
    "\n",
    "plt.xlabel('Borough', fontsize=16) # add to x-label to the plot\n",
    "plt.ylabel('Crimes', fontsize=16) # add y-label to the plot\n",
    "plt.title('Crimes by Borough, 2018-19') # add title to the plot\n",
    "\n",
    "plt.show()"
   ]
  },
  {
   "cell_type": "code",
   "execution_count": null,
   "metadata": {},
   "outputs": [],
   "source": []
  },
  {
   "cell_type": "code",
   "execution_count": 249,
   "metadata": {},
   "outputs": [
    {
     "name": "stdout",
     "output_type": "stream",
     "text": [
      "51.4570271 -0.1932607\n"
     ]
    }
   ],
   "source": [
    "address = 'Wandsworth'\n",
    "\n",
    "geolocator = Nominatim(user_agent=\"foursquare_agent\")\n",
    "location = geolocator.geocode(address)\n",
    "latitude = location.latitude\n",
    "longitude = location.longitude\n",
    "print(latitude, longitude)\n"
   ]
  },
  {
   "cell_type": "code",
   "execution_count": 13,
   "metadata": {},
   "outputs": [
    {
     "data": {
      "text/html": [
       "<div>\n",
       "<style scoped>\n",
       "    .dataframe tbody tr th:only-of-type {\n",
       "        vertical-align: middle;\n",
       "    }\n",
       "\n",
       "    .dataframe tbody tr th {\n",
       "        vertical-align: top;\n",
       "    }\n",
       "\n",
       "    .dataframe thead th {\n",
       "        text-align: right;\n",
       "    }\n",
       "</style>\n",
       "<table border=\"1\" class=\"dataframe\">\n",
       "  <thead>\n",
       "    <tr style=\"text-align: right;\">\n",
       "      <th></th>\n",
       "      <th>Borough</th>\n",
       "      <th>2018/19</th>\n",
       "      <th>2017/18</th>\n",
       "      <th>2016/17</th>\n",
       "      <th>2015/16</th>\n",
       "      <th>2014/15</th>\n",
       "      <th>Total</th>\n",
       "    </tr>\n",
       "  </thead>\n",
       "  <tbody>\n",
       "    <tr>\n",
       "      <th>0</th>\n",
       "      <td>Barking and Dagenham</td>\n",
       "      <td>19836</td>\n",
       "      <td>20228</td>\n",
       "      <td>19095</td>\n",
       "      <td>18719</td>\n",
       "      <td>17446</td>\n",
       "      <td>95324</td>\n",
       "    </tr>\n",
       "    <tr>\n",
       "      <th>1</th>\n",
       "      <td>Barnet</td>\n",
       "      <td>30926</td>\n",
       "      <td>29299</td>\n",
       "      <td>27800</td>\n",
       "      <td>26663</td>\n",
       "      <td>25022</td>\n",
       "      <td>139710</td>\n",
       "    </tr>\n",
       "    <tr>\n",
       "      <th>2</th>\n",
       "      <td>Bexley</td>\n",
       "      <td>16932</td>\n",
       "      <td>16082</td>\n",
       "      <td>14534</td>\n",
       "      <td>13483</td>\n",
       "      <td>13194</td>\n",
       "      <td>74225</td>\n",
       "    </tr>\n",
       "    <tr>\n",
       "      <th>3</th>\n",
       "      <td>Brent</td>\n",
       "      <td>33039</td>\n",
       "      <td>32414</td>\n",
       "      <td>29856</td>\n",
       "      <td>27962</td>\n",
       "      <td>26956</td>\n",
       "      <td>150227</td>\n",
       "    </tr>\n",
       "    <tr>\n",
       "      <th>4</th>\n",
       "      <td>Bromley</td>\n",
       "      <td>25125</td>\n",
       "      <td>24749</td>\n",
       "      <td>22604</td>\n",
       "      <td>22828</td>\n",
       "      <td>21855</td>\n",
       "      <td>117161</td>\n",
       "    </tr>\n",
       "  </tbody>\n",
       "</table>\n",
       "</div>"
      ],
      "text/plain": [
       "                Borough  2018/19  2017/18  2016/17  2015/16  2014/15   Total\n",
       "0  Barking and Dagenham    19836    20228    19095    18719    17446   95324\n",
       "1                Barnet    30926    29299    27800    26663    25022  139710\n",
       "2                Bexley    16932    16082    14534    13483    13194   74225\n",
       "3                 Brent    33039    32414    29856    27962    26956  150227\n",
       "4               Bromley    25125    24749    22604    22828    21855  117161"
      ]
     },
     "execution_count": 13,
     "metadata": {},
     "output_type": "execute_result"
    }
   ],
   "source": [
    "df_all_crime = pd.read_csv(r'C:\\Users\\Jonathan\\Documents\\Python\\London_Crime_All_Year.csv') \n",
    "df_all_crime.head()\n",
    "                        \n",
    "\n"
   ]
  },
  {
   "cell_type": "code",
   "execution_count": 14,
   "metadata": {},
   "outputs": [
    {
     "name": "stdout",
     "output_type": "stream",
     "text": [
      "['Borough', '2018/19', '2017/18', '2016/17', '2015/16', '2014/15', 'Total']\n"
     ]
    }
   ],
   "source": [
    "print(df_all_crime.columns.tolist())"
   ]
  },
  {
   "cell_type": "code",
   "execution_count": 15,
   "metadata": {},
   "outputs": [
    {
     "data": {
      "text/html": [
       "<div>\n",
       "<style scoped>\n",
       "    .dataframe tbody tr th:only-of-type {\n",
       "        vertical-align: middle;\n",
       "    }\n",
       "\n",
       "    .dataframe tbody tr th {\n",
       "        vertical-align: top;\n",
       "    }\n",
       "\n",
       "    .dataframe thead th {\n",
       "        text-align: right;\n",
       "    }\n",
       "</style>\n",
       "<table border=\"1\" class=\"dataframe\">\n",
       "  <thead>\n",
       "    <tr style=\"text-align: right;\">\n",
       "      <th></th>\n",
       "      <th>Borough</th>\n",
       "      <th>2018/19</th>\n",
       "      <th>2017/18</th>\n",
       "      <th>2016/17</th>\n",
       "      <th>2015/16</th>\n",
       "      <th>2014/15</th>\n",
       "      <th>Total</th>\n",
       "    </tr>\n",
       "  </thead>\n",
       "  <tbody>\n",
       "    <tr>\n",
       "      <th>31</th>\n",
       "      <td>Westminster</td>\n",
       "      <td>71034</td>\n",
       "      <td>62275</td>\n",
       "      <td>54115</td>\n",
       "      <td>52947</td>\n",
       "      <td>52599</td>\n",
       "      <td>292970</td>\n",
       "    </tr>\n",
       "    <tr>\n",
       "      <th>20</th>\n",
       "      <td>Lambeth</td>\n",
       "      <td>37589</td>\n",
       "      <td>37662</td>\n",
       "      <td>37944</td>\n",
       "      <td>37571</td>\n",
       "      <td>35263</td>\n",
       "      <td>186029</td>\n",
       "    </tr>\n",
       "    <tr>\n",
       "      <th>26</th>\n",
       "      <td>Southwark</td>\n",
       "      <td>38862</td>\n",
       "      <td>36760</td>\n",
       "      <td>35292</td>\n",
       "      <td>33711</td>\n",
       "      <td>32379</td>\n",
       "      <td>177004</td>\n",
       "    </tr>\n",
       "    <tr>\n",
       "      <th>5</th>\n",
       "      <td>Camden</td>\n",
       "      <td>38691</td>\n",
       "      <td>41346</td>\n",
       "      <td>32828</td>\n",
       "      <td>32744</td>\n",
       "      <td>30378</td>\n",
       "      <td>175987</td>\n",
       "    </tr>\n",
       "    <tr>\n",
       "      <th>23</th>\n",
       "      <td>Newham</td>\n",
       "      <td>38654</td>\n",
       "      <td>37571</td>\n",
       "      <td>33894</td>\n",
       "      <td>32636</td>\n",
       "      <td>31321</td>\n",
       "      <td>174076</td>\n",
       "    </tr>\n",
       "  </tbody>\n",
       "</table>\n",
       "</div>"
      ],
      "text/plain": [
       "        Borough  2018/19  2017/18  2016/17  2015/16  2014/15   Total\n",
       "31  Westminster    71034    62275    54115    52947    52599  292970\n",
       "20      Lambeth    37589    37662    37944    37571    35263  186029\n",
       "26    Southwark    38862    36760    35292    33711    32379  177004\n",
       "5        Camden    38691    41346    32828    32744    30378  175987\n",
       "23       Newham    38654    37571    33894    32636    31321  174076"
      ]
     },
     "execution_count": 15,
     "metadata": {},
     "output_type": "execute_result"
    }
   ],
   "source": [
    "df_all_crime.sort_values(['Total'], ascending=False, axis=0, inplace=True) \n",
    "df_all_crime.head()"
   ]
  },
  {
   "cell_type": "code",
   "execution_count": 16,
   "metadata": {},
   "outputs": [],
   "source": [
    "\n",
    "df_all_crime.drop(['2018/19', '2017/18', '2016/17', '2015/16', '2014/15'], axis=1, inplace=True) \n"
   ]
  },
  {
   "cell_type": "code",
   "execution_count": 17,
   "metadata": {},
   "outputs": [
    {
     "data": {
      "text/html": [
       "<div>\n",
       "<style scoped>\n",
       "    .dataframe tbody tr th:only-of-type {\n",
       "        vertical-align: middle;\n",
       "    }\n",
       "\n",
       "    .dataframe tbody tr th {\n",
       "        vertical-align: top;\n",
       "    }\n",
       "\n",
       "    .dataframe thead th {\n",
       "        text-align: right;\n",
       "    }\n",
       "</style>\n",
       "<table border=\"1\" class=\"dataframe\">\n",
       "  <thead>\n",
       "    <tr style=\"text-align: right;\">\n",
       "      <th></th>\n",
       "      <th>Total</th>\n",
       "    </tr>\n",
       "    <tr>\n",
       "      <th>Borough</th>\n",
       "      <th></th>\n",
       "    </tr>\n",
       "  </thead>\n",
       "  <tbody>\n",
       "    <tr>\n",
       "      <th>Westminster</th>\n",
       "      <td>292970</td>\n",
       "    </tr>\n",
       "    <tr>\n",
       "      <th>Lambeth</th>\n",
       "      <td>186029</td>\n",
       "    </tr>\n",
       "    <tr>\n",
       "      <th>Southwark</th>\n",
       "      <td>177004</td>\n",
       "    </tr>\n",
       "    <tr>\n",
       "      <th>Camden</th>\n",
       "      <td>175987</td>\n",
       "    </tr>\n",
       "    <tr>\n",
       "      <th>Newham</th>\n",
       "      <td>174076</td>\n",
       "    </tr>\n",
       "  </tbody>\n",
       "</table>\n",
       "</div>"
      ],
      "text/plain": [
       "              Total\n",
       "Borough            \n",
       "Westminster  292970\n",
       "Lambeth      186029\n",
       "Southwark    177004\n",
       "Camden       175987\n",
       "Newham       174076"
      ]
     },
     "execution_count": 17,
     "metadata": {},
     "output_type": "execute_result"
    }
   ],
   "source": [
    "df_all_crime.set_index('Borough', inplace=True)\n",
    "df_all_crime.head()"
   ]
  },
  {
   "cell_type": "code",
   "execution_count": null,
   "metadata": {},
   "outputs": [],
   "source": []
  },
  {
   "cell_type": "code",
   "execution_count": 18,
   "metadata": {},
   "outputs": [
    {
     "data": {
      "text/plain": [
       "<function matplotlib.pyplot.show(*args, **kw)>"
      ]
     },
     "execution_count": 18,
     "metadata": {},
     "output_type": "execute_result"
    },
    {
     "data": {
      "image/png": "[encoded data removed]",
      "text/plain": [
       "<Figure size 1440x576 with 1 Axes>"
      ]
     },
     "metadata": {
      "needs_background": "light"
     },
     "output_type": "display_data"
    }
   ],
   "source": [
    "\n",
    "\n",
    "df_all_crime.plot(kind = 'bar', \n",
    "                 figsize=(20,8),\n",
    "                 width=0.8,\n",
    "                 color='navy',\n",
    "                 fontsize=14\n",
    "                 )\n",
    "plt.xlabel('Borough', fontsize=14)\n",
    "plt.ylabel('Crimes', fontsize=14)\n",
    "plt.title('Total Crimes by Borough, 2014-2019', fontsize=20)\n",
    "\n",
    "plt.show"
   ]
  },
  {
   "cell_type": "code",
   "execution_count": 19,
   "metadata": {},
   "outputs": [
    {
     "data": {
      "image/png": "[encoded data removed]",
      "text/plain": [
       "<Figure size 720x432 with 1 Axes>"
      ]
     },
     "metadata": {
      "needs_background": "light"
     },
     "output_type": "display_data"
    }
   ],
   "source": [
    "df_all_crime.plot(kind='bar', \n",
    "                      figsize=(10, 6),\n",
    "                      width = 0.8,\n",
    "                      color = 'navy')\n",
    "\n",
    "plt.xlabel('Borough') # add to x-label to the plot\n",
    "plt.ylabel('Crimes') # add y-label to the plot\n",
    "plt.title('Crimes by Borough') # add title to the plot\n",
    "\n",
    "plt.show()"
   ]
  },
  {
   "cell_type": "code",
   "execution_count": 20,
   "metadata": {},
   "outputs": [
    {
     "ename": "NameError",
     "evalue": "name 'Nominatim' is not defined",
     "output_type": "error",
     "traceback": [
      "\u001b[1;31m---------------------------------------------------------------------------\u001b[0m",
      "\u001b[1;31mNameError\u001b[0m                                 Traceback (most recent call last)",
      "\u001b[1;32m<ipython-input-20-0c386a104657>\u001b[0m in \u001b[0;36m<module>\u001b[1;34m\u001b[0m\n\u001b[0;32m      1\u001b[0m \u001b[0maddress\u001b[0m \u001b[1;33m=\u001b[0m \u001b[1;34m'Wandsworth'\u001b[0m\u001b[1;33m\u001b[0m\u001b[1;33m\u001b[0m\u001b[0m\n\u001b[0;32m      2\u001b[0m \u001b[1;33m\u001b[0m\u001b[0m\n\u001b[1;32m----> 3\u001b[1;33m \u001b[0mgeolocator\u001b[0m \u001b[1;33m=\u001b[0m \u001b[0mNominatim\u001b[0m\u001b[1;33m(\u001b[0m\u001b[0muser_agent\u001b[0m\u001b[1;33m=\u001b[0m\u001b[1;34m\"foursquare_agent\"\u001b[0m\u001b[1;33m)\u001b[0m\u001b[1;33m\u001b[0m\u001b[1;33m\u001b[0m\u001b[0m\n\u001b[0m\u001b[0;32m      4\u001b[0m \u001b[0mvenue\u001b[0m \u001b[1;33m=\u001b[0m \u001b[1;34m'police station'\u001b[0m\u001b[1;33m\u001b[0m\u001b[1;33m\u001b[0m\u001b[0m\n\u001b[0;32m      5\u001b[0m \u001b[0mradius\u001b[0m \u001b[1;33m=\u001b[0m \u001b[1;36m1000\u001b[0m\u001b[1;33m\u001b[0m\u001b[1;33m\u001b[0m\u001b[0m\n",
      "\u001b[1;31mNameError\u001b[0m: name 'Nominatim' is not defined"
     ]
    }
   ],
   "source": [
    "address = 'Wandsworth'\n",
    "\n",
    "geolocator = Nominatim(user_agent=\"foursquare_agent\")\n",
    "venue = 'police station'\n",
    "radius = 1000\n",
    "location = geolocator.geocode(address)\n",
    "latitude = location.latitude\n",
    "longitude = location.longitude\n",
    "print(latitude, longitude)"
   ]
  },
  {
   "cell_type": "code",
   "execution_count": null,
   "metadata": {},
   "outputs": [],
   "source": []
  },
  {
   "cell_type": "code",
   "execution_count": null,
   "metadata": {},
   "outputs": [],
   "source": []
  },
  {
   "cell_type": "code",
   "execution_count": 325,
   "metadata": {},
   "outputs": [
    {
     "data": {
      "text/html": [
       "<div>\n",
       "<style scoped>\n",
       "    .dataframe tbody tr th:only-of-type {\n",
       "        vertical-align: middle;\n",
       "    }\n",
       "\n",
       "    .dataframe tbody tr th {\n",
       "        vertical-align: top;\n",
       "    }\n",
       "\n",
       "    .dataframe thead th {\n",
       "        text-align: right;\n",
       "    }\n",
       "</style>\n",
       "<table border=\"1\" class=\"dataframe\">\n",
       "  <thead>\n",
       "    <tr style=\"text-align: right;\">\n",
       "      <th></th>\n",
       "      <th>Borough</th>\n",
       "      <th>Crimes</th>\n",
       "    </tr>\n",
       "  </thead>\n",
       "  <tbody>\n",
       "    <tr>\n",
       "      <th>0</th>\n",
       "      <td>Westminster</td>\n",
       "      <td>71034</td>\n",
       "    </tr>\n",
       "    <tr>\n",
       "      <th>1</th>\n",
       "      <td>Southwark</td>\n",
       "      <td>38862</td>\n",
       "    </tr>\n",
       "    <tr>\n",
       "      <th>2</th>\n",
       "      <td>Camden</td>\n",
       "      <td>38691</td>\n",
       "    </tr>\n",
       "    <tr>\n",
       "      <th>3</th>\n",
       "      <td>Newham</td>\n",
       "      <td>38654</td>\n",
       "    </tr>\n",
       "    <tr>\n",
       "      <th>4</th>\n",
       "      <td>Lambeth</td>\n",
       "      <td>37589</td>\n",
       "    </tr>\n",
       "  </tbody>\n",
       "</table>\n",
       "</div>"
      ],
      "text/plain": [
       "       Borough  Crimes\n",
       "0  Westminster   71034\n",
       "1    Southwark   38862\n",
       "2       Camden   38691\n",
       "3       Newham   38654\n",
       "4      Lambeth   37589"
      ]
     },
     "execution_count": 325,
     "metadata": {},
     "output_type": "execute_result"
    }
   ],
   "source": [
    "df_boroughs = pd.read_csv(r'C:\\Users\\Jonathan\\Documents\\Python\\London_Crime.csv')\n",
    "df_boroughs.head()"
   ]
  },
  {
   "cell_type": "code",
   "execution_count": 326,
   "metadata": {},
   "outputs": [
    {
     "data": {
      "text/plain": [
       "Text(0.5, 1.0, 'Total Crimes by Borough 2014-19')"
      ]
     },
     "execution_count": 326,
     "metadata": {},
     "output_type": "execute_result"
    },
    {
     "data": {
      "image/png": "[encoded data removed]",
      "text/plain": [
       "<Figure size 720x504 with 1 Axes>"
      ]
     },
     "metadata": {
      "needs_background": "light"
     },
     "output_type": "display_data"
    }
   ],
   "source": [
    "import seaborn as sns\n",
    "\n",
    "df_boroughs.plot(kind='box',\n",
    "                 sym='b+',\n",
    "                 figsize=(10,7),\n",
    "                color='navy'\n",
    "                )\n",
    "plt.title('Total Crimes by Borough 2014-19')\n"
   ]
  },
  {
   "cell_type": "code",
   "execution_count": 214,
   "metadata": {},
   "outputs": [
    {
     "data": {
      "text/html": [
       "<div>\n",
       "<style scoped>\n",
       "    .dataframe tbody tr th:only-of-type {\n",
       "        vertical-align: middle;\n",
       "    }\n",
       "\n",
       "    .dataframe tbody tr th {\n",
       "        vertical-align: top;\n",
       "    }\n",
       "\n",
       "    .dataframe thead th {\n",
       "        text-align: right;\n",
       "    }\n",
       "</style>\n",
       "<table border=\"1\" class=\"dataframe\">\n",
       "  <thead>\n",
       "    <tr style=\"text-align: right;\">\n",
       "      <th></th>\n",
       "      <th>Borough</th>\n",
       "      <th>Crimes</th>\n",
       "    </tr>\n",
       "  </thead>\n",
       "  <tbody>\n",
       "    <tr>\n",
       "      <th>0</th>\n",
       "      <td>Westminster</td>\n",
       "      <td>71034</td>\n",
       "    </tr>\n",
       "    <tr>\n",
       "      <th>1</th>\n",
       "      <td>Southwark</td>\n",
       "      <td>38862</td>\n",
       "    </tr>\n",
       "    <tr>\n",
       "      <th>2</th>\n",
       "      <td>Camden</td>\n",
       "      <td>38691</td>\n",
       "    </tr>\n",
       "    <tr>\n",
       "      <th>3</th>\n",
       "      <td>Newham</td>\n",
       "      <td>38654</td>\n",
       "    </tr>\n",
       "    <tr>\n",
       "      <th>4</th>\n",
       "      <td>Lambeth</td>\n",
       "      <td>37589</td>\n",
       "    </tr>\n",
       "    <tr>\n",
       "      <th>5</th>\n",
       "      <td>Tower Hamlets</td>\n",
       "      <td>36275</td>\n",
       "    </tr>\n",
       "    <tr>\n",
       "      <th>6</th>\n",
       "      <td>Hackney</td>\n",
       "      <td>33948</td>\n",
       "    </tr>\n",
       "    <tr>\n",
       "      <th>7</th>\n",
       "      <td>Croydon</td>\n",
       "      <td>33546</td>\n",
       "    </tr>\n",
       "    <tr>\n",
       "      <th>8</th>\n",
       "      <td>Haringey</td>\n",
       "      <td>33531</td>\n",
       "    </tr>\n",
       "    <tr>\n",
       "      <th>9</th>\n",
       "      <td>Brent</td>\n",
       "      <td>33039</td>\n",
       "    </tr>\n",
       "    <tr>\n",
       "      <th>10</th>\n",
       "      <td>Barnet</td>\n",
       "      <td>30926</td>\n",
       "    </tr>\n",
       "    <tr>\n",
       "      <th>11</th>\n",
       "      <td>Ealing</td>\n",
       "      <td>30920</td>\n",
       "    </tr>\n",
       "    <tr>\n",
       "      <th>12</th>\n",
       "      <td>Islington</td>\n",
       "      <td>30800</td>\n",
       "    </tr>\n",
       "    <tr>\n",
       "      <th>13</th>\n",
       "      <td>Enfield</td>\n",
       "      <td>30561</td>\n",
       "    </tr>\n",
       "    <tr>\n",
       "      <th>14</th>\n",
       "      <td>Lewisham</td>\n",
       "      <td>28247</td>\n",
       "    </tr>\n",
       "    <tr>\n",
       "      <th>15</th>\n",
       "      <td>Greenwich</td>\n",
       "      <td>27865</td>\n",
       "    </tr>\n",
       "    <tr>\n",
       "      <th>16</th>\n",
       "      <td>Wandsworth</td>\n",
       "      <td>27841</td>\n",
       "    </tr>\n",
       "    <tr>\n",
       "      <th>17</th>\n",
       "      <td>Hounslow</td>\n",
       "      <td>27554</td>\n",
       "    </tr>\n",
       "    <tr>\n",
       "      <th>18</th>\n",
       "      <td>Hillingdon</td>\n",
       "      <td>27258</td>\n",
       "    </tr>\n",
       "    <tr>\n",
       "      <th>19</th>\n",
       "      <td>Waltham Forest</td>\n",
       "      <td>25656</td>\n",
       "    </tr>\n",
       "    <tr>\n",
       "      <th>20</th>\n",
       "      <td>Redbridge</td>\n",
       "      <td>25308</td>\n",
       "    </tr>\n",
       "    <tr>\n",
       "      <th>21</th>\n",
       "      <td>Bromley</td>\n",
       "      <td>25125</td>\n",
       "    </tr>\n",
       "    <tr>\n",
       "      <th>22</th>\n",
       "      <td>Hammersmith and Fulham</td>\n",
       "      <td>24022</td>\n",
       "    </tr>\n",
       "    <tr>\n",
       "      <th>23</th>\n",
       "      <td>Kensington and Chelsea</td>\n",
       "      <td>23853</td>\n",
       "    </tr>\n",
       "    <tr>\n",
       "      <th>24</th>\n",
       "      <td>Havering</td>\n",
       "      <td>20191</td>\n",
       "    </tr>\n",
       "    <tr>\n",
       "      <th>25</th>\n",
       "      <td>Barking and Dagenham</td>\n",
       "      <td>19836</td>\n",
       "    </tr>\n",
       "    <tr>\n",
       "      <th>26</th>\n",
       "      <td>Bexley</td>\n",
       "      <td>16932</td>\n",
       "    </tr>\n",
       "    <tr>\n",
       "      <th>27</th>\n",
       "      <td>Harrow</td>\n",
       "      <td>16431</td>\n",
       "    </tr>\n",
       "    <tr>\n",
       "      <th>28</th>\n",
       "      <td>Merton</td>\n",
       "      <td>14885</td>\n",
       "    </tr>\n",
       "    <tr>\n",
       "      <th>29</th>\n",
       "      <td>Richmond upon Thames</td>\n",
       "      <td>13704</td>\n",
       "    </tr>\n",
       "    <tr>\n",
       "      <th>30</th>\n",
       "      <td>Kingston upon Thames</td>\n",
       "      <td>13455</td>\n",
       "    </tr>\n",
       "    <tr>\n",
       "      <th>31</th>\n",
       "      <td>Sutton</td>\n",
       "      <td>13272</td>\n",
       "    </tr>\n",
       "    <tr>\n",
       "      <th>32</th>\n",
       "      <td>City</td>\n",
       "      <td>8268</td>\n",
       "    </tr>\n",
       "  </tbody>\n",
       "</table>\n",
       "</div>"
      ],
      "text/plain": [
       "                   Borough  Crimes\n",
       "0              Westminster   71034\n",
       "1                Southwark   38862\n",
       "2                   Camden   38691\n",
       "3                   Newham   38654\n",
       "4                  Lambeth   37589\n",
       "5            Tower Hamlets   36275\n",
       "6                  Hackney   33948\n",
       "7                  Croydon   33546\n",
       "8                 Haringey   33531\n",
       "9                    Brent   33039\n",
       "10                  Barnet   30926\n",
       "11                  Ealing   30920\n",
       "12               Islington   30800\n",
       "13                 Enfield   30561\n",
       "14                Lewisham   28247\n",
       "15               Greenwich   27865\n",
       "16              Wandsworth   27841\n",
       "17                Hounslow   27554\n",
       "18              Hillingdon   27258\n",
       "19          Waltham Forest   25656\n",
       "20               Redbridge   25308\n",
       "21                 Bromley   25125\n",
       "22  Hammersmith and Fulham   24022\n",
       "23  Kensington and Chelsea   23853\n",
       "24                Havering   20191\n",
       "25    Barking and Dagenham   19836\n",
       "26                  Bexley   16932\n",
       "27                  Harrow   16431\n",
       "28                  Merton   14885\n",
       "29    Richmond upon Thames   13704\n",
       "30    Kingston upon Thames   13455\n",
       "31                  Sutton   13272\n",
       "32                    City    8268"
      ]
     },
     "execution_count": 214,
     "metadata": {},
     "output_type": "execute_result"
    }
   ],
   "source": [
    "df_boroughs\n",
    "\n"
   ]
  },
  {
   "cell_type": "code",
   "execution_count": 215,
   "metadata": {},
   "outputs": [
    {
     "data": {
      "text/plain": [
       "array(['Westminster', 'Southwark', 'Camden', 'Newham', 'Lambeth',\n",
       "       'Tower Hamlets', 'Hackney', 'Croydon', 'Haringey', 'Brent',\n",
       "       'Barnet', 'Ealing', 'Islington', 'Enfield', 'Lewisham',\n",
       "       'Greenwich', 'Wandsworth', 'Hounslow', 'Hillingdon',\n",
       "       'Waltham Forest', 'Redbridge', 'Bromley', 'Hammersmith and Fulham',\n",
       "       'Kensington and Chelsea', 'Havering', 'Barking and Dagenham',\n",
       "       'Bexley', 'Harrow', 'Merton', 'Richmond upon Thames',\n",
       "       'Kingston upon Thames', 'Sutton', 'City'], dtype=object)"
      ]
     },
     "execution_count": 215,
     "metadata": {},
     "output_type": "execute_result"
    }
   ],
   "source": [
    "bor = df_boroughs[\"Borough\"].to_numpy()\n",
    "bor\n",
    "\n",
    "\n",
    "    "
   ]
  },
  {
   "cell_type": "code",
   "execution_count": null,
   "metadata": {},
   "outputs": [],
   "source": []
  },
  {
   "cell_type": "code",
   "execution_count": 328,
   "metadata": {},
   "outputs": [
    {
     "data": {
      "text/html": [
       "<div>\n",
       "<style scoped>\n",
       "    .dataframe tbody tr th:only-of-type {\n",
       "        vertical-align: middle;\n",
       "    }\n",
       "\n",
       "    .dataframe tbody tr th {\n",
       "        vertical-align: top;\n",
       "    }\n",
       "\n",
       "    .dataframe thead th {\n",
       "        text-align: right;\n",
       "    }\n",
       "</style>\n",
       "<table border=\"1\" class=\"dataframe\">\n",
       "  <thead>\n",
       "    <tr style=\"text-align: right;\">\n",
       "      <th></th>\n",
       "      <th>Borough</th>\n",
       "      <th>Population</th>\n",
       "    </tr>\n",
       "  </thead>\n",
       "  <tbody>\n",
       "    <tr>\n",
       "      <th>0</th>\n",
       "      <td>Barking and Dagenham</td>\n",
       "      <td>211998</td>\n",
       "    </tr>\n",
       "    <tr>\n",
       "      <th>1</th>\n",
       "      <td>Barnet</td>\n",
       "      <td>392140</td>\n",
       "    </tr>\n",
       "    <tr>\n",
       "      <th>2</th>\n",
       "      <td>Bexley</td>\n",
       "      <td>247258</td>\n",
       "    </tr>\n",
       "    <tr>\n",
       "      <th>3</th>\n",
       "      <td>Brent</td>\n",
       "      <td>330795</td>\n",
       "    </tr>\n",
       "    <tr>\n",
       "      <th>4</th>\n",
       "      <td>Bromley</td>\n",
       "      <td>331096</td>\n",
       "    </tr>\n",
       "  </tbody>\n",
       "</table>\n",
       "</div>"
      ],
      "text/plain": [
       "                Borough  Population\n",
       "0  Barking and Dagenham      211998\n",
       "1                Barnet      392140\n",
       "2                Bexley      247258\n",
       "3                 Brent      330795\n",
       "4               Bromley      331096"
      ]
     },
     "execution_count": 328,
     "metadata": {},
     "output_type": "execute_result"
    }
   ],
   "source": [
    "df_population = pd.read_csv(r'C:\\Users\\Jonathan\\Documents\\Python\\borough_population.csv')\n",
    "df_population.head()"
   ]
  },
  {
   "cell_type": "code",
   "execution_count": 334,
   "metadata": {},
   "outputs": [
    {
     "data": {
      "text/html": [
       "<div>\n",
       "<style scoped>\n",
       "    .dataframe tbody tr th:only-of-type {\n",
       "        vertical-align: middle;\n",
       "    }\n",
       "\n",
       "    .dataframe tbody tr th {\n",
       "        vertical-align: top;\n",
       "    }\n",
       "\n",
       "    .dataframe thead th {\n",
       "        text-align: right;\n",
       "    }\n",
       "</style>\n",
       "<table border=\"1\" class=\"dataframe\">\n",
       "  <thead>\n",
       "    <tr style=\"text-align: right;\">\n",
       "      <th></th>\n",
       "      <th>Population</th>\n",
       "    </tr>\n",
       "    <tr>\n",
       "      <th>Borough</th>\n",
       "      <th></th>\n",
       "    </tr>\n",
       "  </thead>\n",
       "  <tbody>\n",
       "    <tr>\n",
       "      <th>Barnet</th>\n",
       "      <td>392140</td>\n",
       "    </tr>\n",
       "    <tr>\n",
       "      <th>Croydon</th>\n",
       "      <td>385346</td>\n",
       "    </tr>\n",
       "    <tr>\n",
       "      <th>Newham</th>\n",
       "      <td>352005</td>\n",
       "    </tr>\n",
       "    <tr>\n",
       "      <th>Ealing</th>\n",
       "      <td>341982</td>\n",
       "    </tr>\n",
       "    <tr>\n",
       "      <th>Enfield</th>\n",
       "      <td>333869</td>\n",
       "    </tr>\n",
       "  </tbody>\n",
       "</table>\n",
       "</div>"
      ],
      "text/plain": [
       "         Population\n",
       "Borough            \n",
       "Barnet       392140\n",
       "Croydon      385346\n",
       "Newham       352005\n",
       "Ealing       341982\n",
       "Enfield      333869"
      ]
     },
     "execution_count": 334,
     "metadata": {},
     "output_type": "execute_result"
    }
   ],
   "source": [
    "df_population.sort_values(['Population'], ascending=False, axis=0, inplace=True) \n",
    "df_population.set_index('Borough', inplace=True)\n",
    "df_population.head()"
   ]
  },
  {
   "cell_type": "code",
   "execution_count": 336,
   "metadata": {},
   "outputs": [
    {
     "data": {
      "image/png": "[encoded data removed]",
      "text/plain": [
       "<Figure size 864x720 with 1 Axes>"
      ]
     },
     "metadata": {
      "needs_background": "light"
     },
     "output_type": "display_data"
    }
   ],
   "source": [
    "pop = df_population.plot(kind='bar', \n",
    "                        figsize=(12,10),\n",
    "                        width=0.8,\n",
    "                        color='navy')\n",
    "plt.xlabel('Borough', fontsize=12)\n",
    "plt.ylabel('Population', fontsize=12)\n",
    "plt.title('Population of London Borough (2018 Estimate)')\n",
    "\n",
    "\n",
    "plt.show()"
   ]
  },
  {
   "cell_type": "code",
   "execution_count": 89,
   "metadata": {},
   "outputs": [
    {
     "data": {
      "text/html": [
       "<div>\n",
       "<style scoped>\n",
       "    .dataframe tbody tr th:only-of-type {\n",
       "        vertical-align: middle;\n",
       "    }\n",
       "\n",
       "    .dataframe tbody tr th {\n",
       "        vertical-align: top;\n",
       "    }\n",
       "\n",
       "    .dataframe thead th {\n",
       "        text-align: right;\n",
       "    }\n",
       "</style>\n",
       "<table border=\"1\" class=\"dataframe\">\n",
       "  <thead>\n",
       "    <tr style=\"text-align: right;\">\n",
       "      <th></th>\n",
       "      <th>Borough</th>\n",
       "      <th>Violent Incidents</th>\n",
       "      <th>Population</th>\n",
       "      <th>Violence Rate</th>\n",
       "      <th>Average income</th>\n",
       "    </tr>\n",
       "  </thead>\n",
       "  <tbody>\n",
       "    <tr>\n",
       "      <th>0</th>\n",
       "      <td>Barking &amp; Dagenham</td>\n",
       "      <td>6168</td>\n",
       "      <td>211998</td>\n",
       "      <td>2909.46</td>\n",
       "      <td>23500.0</td>\n",
       "    </tr>\n",
       "    <tr>\n",
       "      <th>1</th>\n",
       "      <td>Barnet</td>\n",
       "      <td>7365</td>\n",
       "      <td>392140</td>\n",
       "      <td>1878.16</td>\n",
       "      <td>25600.0</td>\n",
       "    </tr>\n",
       "    <tr>\n",
       "      <th>2</th>\n",
       "      <td>Bexley</td>\n",
       "      <td>5305</td>\n",
       "      <td>247258</td>\n",
       "      <td>2145.53</td>\n",
       "      <td>26800.0</td>\n",
       "    </tr>\n",
       "    <tr>\n",
       "      <th>3</th>\n",
       "      <td>Brent</td>\n",
       "      <td>8746</td>\n",
       "      <td>330795</td>\n",
       "      <td>2643.93</td>\n",
       "      <td>22800.0</td>\n",
       "    </tr>\n",
       "    <tr>\n",
       "      <th>4</th>\n",
       "      <td>Bromley</td>\n",
       "      <td>6512</td>\n",
       "      <td>331096</td>\n",
       "      <td>1966.80</td>\n",
       "      <td>22800.0</td>\n",
       "    </tr>\n",
       "  </tbody>\n",
       "</table>\n",
       "</div>"
      ],
      "text/plain": [
       "              Borough  Violent Incidents   Population  Violence Rate  \\\n",
       "0  Barking & Dagenham                6168      211998        2909.46   \n",
       "1              Barnet                7365      392140        1878.16   \n",
       "2              Bexley                5305      247258        2145.53   \n",
       "3              Brent                 8746      330795        2643.93   \n",
       "4             Bromley                6512      331096        1966.80   \n",
       "\n",
       "   Average income  \n",
       "0         23500.0  \n",
       "1         25600.0  \n",
       "2         26800.0  \n",
       "3         22800.0  \n",
       "4         22800.0  "
      ]
     },
     "execution_count": 89,
     "metadata": {},
     "output_type": "execute_result"
    }
   ],
   "source": [
    "\n",
    "df_borough = pd.read_csv(r'C:\\Users\\Jonathan\\Documents\\Python\\Borough_Murder.csv')\n",
    "df_borough.head()"
   ]
  },
  {
   "cell_type": "code",
   "execution_count": null,
   "metadata": {},
   "outputs": [],
   "source": [
    "\n"
   ]
  },
  {
   "cell_type": "code",
   "execution_count": 94,
   "metadata": {
    "scrolled": true
   },
   "outputs": [
    {
     "data": {
      "text/plain": [
       "array([-8.91904472e-02,  4.98711953e+03])"
      ]
     },
     "execution_count": 94,
     "metadata": {},
     "output_type": "execute_result"
    }
   ],
   "source": [
    "\n",
    "\n",
    "x = df_borough['Average income']      # year on x-axis\n",
    "y = df_borough['Violence Rate']     # total on y-axis\n",
    "fit = np.polyfit(x, y, deg=1)\n",
    "\n",
    "fit\n"
   ]
  },
  {
   "cell_type": "code",
   "execution_count": 97,
   "metadata": {},
   "outputs": [
    {
     "ename": "TypeError",
     "evalue": "annotate() missing 1 required positional argument: 'xy'",
     "output_type": "error",
     "traceback": [
      "\u001b[1;31m---------------------------------------------------------------------------\u001b[0m",
      "\u001b[1;31mTypeError\u001b[0m                                 Traceback (most recent call last)",
      "\u001b[1;32m<ipython-input-97-3c88a939ad99>\u001b[0m in \u001b[0;36m<module>\u001b[1;34m\u001b[0m\n\u001b[0;32m      7\u001b[0m \u001b[1;33m\u001b[0m\u001b[0m\n\u001b[0;32m      8\u001b[0m \u001b[0mplt\u001b[0m\u001b[1;33m.\u001b[0m\u001b[0mplot\u001b[0m\u001b[1;33m(\u001b[0m\u001b[0mx\u001b[0m\u001b[1;33m,\u001b[0m \u001b[0mfit\u001b[0m\u001b[1;33m[\u001b[0m\u001b[1;36m0\u001b[0m\u001b[1;33m]\u001b[0m \u001b[1;33m*\u001b[0m \u001b[0mx\u001b[0m \u001b[1;33m+\u001b[0m \u001b[0mfit\u001b[0m\u001b[1;33m[\u001b[0m\u001b[1;36m1\u001b[0m\u001b[1;33m]\u001b[0m\u001b[1;33m,\u001b[0m \u001b[0mcolor\u001b[0m\u001b[1;33m=\u001b[0m\u001b[1;34m'red'\u001b[0m\u001b[1;33m)\u001b[0m\u001b[1;33m\u001b[0m\u001b[1;33m\u001b[0m\u001b[0m\n\u001b[1;32m----> 9\u001b[1;33m \u001b[0mplt\u001b[0m\u001b[1;33m.\u001b[0m\u001b[0mannotate\u001b[0m\u001b[1;33m(\u001b[0m\u001b[1;34m'y={0:.0f} x + {1:.0f}'\u001b[0m\u001b[1;33m.\u001b[0m\u001b[0mformat\u001b[0m\u001b[1;33m(\u001b[0m\u001b[0mfit\u001b[0m\u001b[1;33m[\u001b[0m\u001b[1;36m0\u001b[0m\u001b[1;33m]\u001b[0m\u001b[1;33m,\u001b[0m \u001b[0mfit\u001b[0m\u001b[1;33m[\u001b[0m\u001b[1;36m1\u001b[0m\u001b[1;33m]\u001b[0m\u001b[1;33m)\u001b[0m\u001b[1;33m)\u001b[0m\u001b[1;33m\u001b[0m\u001b[1;33m\u001b[0m\u001b[0m\n\u001b[0m\u001b[0;32m     10\u001b[0m \u001b[1;33m\u001b[0m\u001b[0m\n\u001b[0;32m     11\u001b[0m \u001b[0mplt\u001b[0m\u001b[1;33m.\u001b[0m\u001b[0mshow\u001b[0m\u001b[1;33m(\u001b[0m\u001b[1;33m)\u001b[0m\u001b[1;33m\u001b[0m\u001b[1;33m\u001b[0m\u001b[0m\n",
      "\u001b[1;31mTypeError\u001b[0m: annotate() missing 1 required positional argument: 'xy'"
     ]
    },
    {
     "data": {
      "image/png": "[encoded data removed]",
      "text/plain": [
       "<Figure size 432x288 with 1 Axes>"
      ]
     },
     "metadata": {
      "needs_background": "light"
     },
     "output_type": "display_data"
    }
   ],
   "source": [
    "df_borough[['Average income', 'Violence Rate']].plot(kind='scatter',\n",
    "                                               x = 'Average income', \n",
    "                                               y = 'Violence Rate') \n",
    "\n",
    "plt.title('Rate of Violence vs Average Income per Borough') \n",
    "\n",
    "\n",
    "plt.plot(x, fit[0] * x + fit[1], color='red') \n",
    "plt.annotate('y={0:.0f} x + {1:.0f}'.format(fit[0], fit[1]))\n",
    "\n",
    "plt.show()\n",
    "\n",
    "\n",
    "x = df_borough['Average income']      \n",
    "y = df_borough['Violence Rate']\n",
    "\n",
    "fit = np.polyfit(x, y, deg=1, xy=(4000, 40000))\n",
    "\n",
    "fit"
   ]
  },
  {
   "cell_type": "code",
   "execution_count": 91,
   "metadata": {},
   "outputs": [
    {
     "data": {
      "text/html": [
       "<div>\n",
       "<style scoped>\n",
       "    .dataframe tbody tr th:only-of-type {\n",
       "        vertical-align: middle;\n",
       "    }\n",
       "\n",
       "    .dataframe tbody tr th {\n",
       "        vertical-align: top;\n",
       "    }\n",
       "\n",
       "    .dataframe thead th {\n",
       "        text-align: right;\n",
       "    }\n",
       "</style>\n",
       "<table border=\"1\" class=\"dataframe\">\n",
       "  <thead>\n",
       "    <tr style=\"text-align: right;\">\n",
       "      <th></th>\n",
       "      <th>Borough</th>\n",
       "      <th>Violence Rate</th>\n",
       "    </tr>\n",
       "  </thead>\n",
       "  <tbody>\n",
       "    <tr>\n",
       "      <th>1</th>\n",
       "      <td>Barnet</td>\n",
       "      <td>1531796.88</td>\n",
       "    </tr>\n",
       "    <tr>\n",
       "      <th>6</th>\n",
       "      <td>Croydon</td>\n",
       "      <td>1487822.39</td>\n",
       "    </tr>\n",
       "    <tr>\n",
       "      <th>23</th>\n",
       "      <td>Newham</td>\n",
       "      <td>1466687.50</td>\n",
       "    </tr>\n",
       "    <tr>\n",
       "      <th>4</th>\n",
       "      <td>Bromley</td>\n",
       "      <td>1452175.44</td>\n",
       "    </tr>\n",
       "    <tr>\n",
       "      <th>3</th>\n",
       "      <td>Brent</td>\n",
       "      <td>1450855.26</td>\n",
       "    </tr>\n",
       "  </tbody>\n",
       "</table>\n",
       "</div>"
      ],
      "text/plain": [
       "    Borough  Violence Rate\n",
       "1    Barnet     1531796.88\n",
       "6   Croydon     1487822.39\n",
       "23   Newham     1466687.50\n",
       "4   Bromley     1452175.44\n",
       "3     Brent     1450855.26"
      ]
     },
     "execution_count": 91,
     "metadata": {},
     "output_type": "execute_result"
    }
   ],
   "source": [
    "df_income.sort_values(['Violence Rate'], ascending=False, axis=0, inplace=True)  \n",
    "df_income.head()\n",
    "\n",
    "\n",
    "\n",
    "\n"
   ]
  },
  {
   "cell_type": "code",
   "execution_count": 92,
   "metadata": {},
   "outputs": [
    {
     "ename": "KeyError",
     "evalue": "\"['Population' 'Average income' '#VALUE!'] not found in axis\"",
     "output_type": "error",
     "traceback": [
      "\u001b[1;31m---------------------------------------------------------------------------\u001b[0m",
      "\u001b[1;31mKeyError\u001b[0m                                  Traceback (most recent call last)",
      "\u001b[1;32m<ipython-input-92-2f81ba61693b>\u001b[0m in \u001b[0;36m<module>\u001b[1;34m\u001b[0m\n\u001b[1;32m----> 1\u001b[1;33m \u001b[0mdf_top_income\u001b[0m \u001b[1;33m=\u001b[0m \u001b[0mdf_income\u001b[0m\u001b[1;33m.\u001b[0m\u001b[0mdrop\u001b[0m\u001b[1;33m(\u001b[0m\u001b[1;33m[\u001b[0m\u001b[1;34m'Population'\u001b[0m\u001b[1;33m,\u001b[0m \u001b[1;34m'Average income'\u001b[0m\u001b[1;33m,\u001b[0m \u001b[1;34m'#VALUE!'\u001b[0m\u001b[1;33m]\u001b[0m\u001b[1;33m,\u001b[0m \u001b[0maxis\u001b[0m\u001b[1;33m=\u001b[0m\u001b[1;36m1\u001b[0m\u001b[1;33m,\u001b[0m \u001b[0minplace\u001b[0m\u001b[1;33m=\u001b[0m\u001b[1;32mTrue\u001b[0m\u001b[1;33m)\u001b[0m\u001b[1;33m\u001b[0m\u001b[1;33m\u001b[0m\u001b[0m\n\u001b[0m",
      "\u001b[1;32m~\\anaconda3\\lib\\site-packages\\pandas\\core\\frame.py\u001b[0m in \u001b[0;36mdrop\u001b[1;34m(self, labels, axis, index, columns, level, inplace, errors)\u001b[0m\n\u001b[0;32m   3995\u001b[0m             \u001b[0mlevel\u001b[0m\u001b[1;33m=\u001b[0m\u001b[0mlevel\u001b[0m\u001b[1;33m,\u001b[0m\u001b[1;33m\u001b[0m\u001b[1;33m\u001b[0m\u001b[0m\n\u001b[0;32m   3996\u001b[0m             \u001b[0minplace\u001b[0m\u001b[1;33m=\u001b[0m\u001b[0minplace\u001b[0m\u001b[1;33m,\u001b[0m\u001b[1;33m\u001b[0m\u001b[1;33m\u001b[0m\u001b[0m\n\u001b[1;32m-> 3997\u001b[1;33m             \u001b[0merrors\u001b[0m\u001b[1;33m=\u001b[0m\u001b[0merrors\u001b[0m\u001b[1;33m,\u001b[0m\u001b[1;33m\u001b[0m\u001b[1;33m\u001b[0m\u001b[0m\n\u001b[0m\u001b[0;32m   3998\u001b[0m         )\n\u001b[0;32m   3999\u001b[0m \u001b[1;33m\u001b[0m\u001b[0m\n",
      "\u001b[1;32m~\\anaconda3\\lib\\site-packages\\pandas\\core\\generic.py\u001b[0m in \u001b[0;36mdrop\u001b[1;34m(self, labels, axis, index, columns, level, inplace, errors)\u001b[0m\n\u001b[0;32m   3934\u001b[0m         \u001b[1;32mfor\u001b[0m \u001b[0maxis\u001b[0m\u001b[1;33m,\u001b[0m \u001b[0mlabels\u001b[0m \u001b[1;32min\u001b[0m \u001b[0maxes\u001b[0m\u001b[1;33m.\u001b[0m\u001b[0mitems\u001b[0m\u001b[1;33m(\u001b[0m\u001b[1;33m)\u001b[0m\u001b[1;33m:\u001b[0m\u001b[1;33m\u001b[0m\u001b[1;33m\u001b[0m\u001b[0m\n\u001b[0;32m   3935\u001b[0m             \u001b[1;32mif\u001b[0m \u001b[0mlabels\u001b[0m \u001b[1;32mis\u001b[0m \u001b[1;32mnot\u001b[0m \u001b[1;32mNone\u001b[0m\u001b[1;33m:\u001b[0m\u001b[1;33m\u001b[0m\u001b[1;33m\u001b[0m\u001b[0m\n\u001b[1;32m-> 3936\u001b[1;33m                 \u001b[0mobj\u001b[0m \u001b[1;33m=\u001b[0m \u001b[0mobj\u001b[0m\u001b[1;33m.\u001b[0m\u001b[0m_drop_axis\u001b[0m\u001b[1;33m(\u001b[0m\u001b[0mlabels\u001b[0m\u001b[1;33m,\u001b[0m \u001b[0maxis\u001b[0m\u001b[1;33m,\u001b[0m \u001b[0mlevel\u001b[0m\u001b[1;33m=\u001b[0m\u001b[0mlevel\u001b[0m\u001b[1;33m,\u001b[0m \u001b[0merrors\u001b[0m\u001b[1;33m=\u001b[0m\u001b[0merrors\u001b[0m\u001b[1;33m)\u001b[0m\u001b[1;33m\u001b[0m\u001b[1;33m\u001b[0m\u001b[0m\n\u001b[0m\u001b[0;32m   3937\u001b[0m \u001b[1;33m\u001b[0m\u001b[0m\n\u001b[0;32m   3938\u001b[0m         \u001b[1;32mif\u001b[0m \u001b[0minplace\u001b[0m\u001b[1;33m:\u001b[0m\u001b[1;33m\u001b[0m\u001b[1;33m\u001b[0m\u001b[0m\n",
      "\u001b[1;32m~\\anaconda3\\lib\\site-packages\\pandas\\core\\generic.py\u001b[0m in \u001b[0;36m_drop_axis\u001b[1;34m(self, labels, axis, level, errors)\u001b[0m\n\u001b[0;32m   3968\u001b[0m                 \u001b[0mnew_axis\u001b[0m \u001b[1;33m=\u001b[0m \u001b[0maxis\u001b[0m\u001b[1;33m.\u001b[0m\u001b[0mdrop\u001b[0m\u001b[1;33m(\u001b[0m\u001b[0mlabels\u001b[0m\u001b[1;33m,\u001b[0m \u001b[0mlevel\u001b[0m\u001b[1;33m=\u001b[0m\u001b[0mlevel\u001b[0m\u001b[1;33m,\u001b[0m \u001b[0merrors\u001b[0m\u001b[1;33m=\u001b[0m\u001b[0merrors\u001b[0m\u001b[1;33m)\u001b[0m\u001b[1;33m\u001b[0m\u001b[1;33m\u001b[0m\u001b[0m\n\u001b[0;32m   3969\u001b[0m             \u001b[1;32melse\u001b[0m\u001b[1;33m:\u001b[0m\u001b[1;33m\u001b[0m\u001b[1;33m\u001b[0m\u001b[0m\n\u001b[1;32m-> 3970\u001b[1;33m                 \u001b[0mnew_axis\u001b[0m \u001b[1;33m=\u001b[0m \u001b[0maxis\u001b[0m\u001b[1;33m.\u001b[0m\u001b[0mdrop\u001b[0m\u001b[1;33m(\u001b[0m\u001b[0mlabels\u001b[0m\u001b[1;33m,\u001b[0m \u001b[0merrors\u001b[0m\u001b[1;33m=\u001b[0m\u001b[0merrors\u001b[0m\u001b[1;33m)\u001b[0m\u001b[1;33m\u001b[0m\u001b[1;33m\u001b[0m\u001b[0m\n\u001b[0m\u001b[0;32m   3971\u001b[0m             \u001b[0mresult\u001b[0m \u001b[1;33m=\u001b[0m \u001b[0mself\u001b[0m\u001b[1;33m.\u001b[0m\u001b[0mreindex\u001b[0m\u001b[1;33m(\u001b[0m\u001b[1;33m**\u001b[0m\u001b[1;33m{\u001b[0m\u001b[0maxis_name\u001b[0m\u001b[1;33m:\u001b[0m \u001b[0mnew_axis\u001b[0m\u001b[1;33m}\u001b[0m\u001b[1;33m)\u001b[0m\u001b[1;33m\u001b[0m\u001b[1;33m\u001b[0m\u001b[0m\n\u001b[0;32m   3972\u001b[0m \u001b[1;33m\u001b[0m\u001b[0m\n",
      "\u001b[1;32m~\\anaconda3\\lib\\site-packages\\pandas\\core\\indexes\\base.py\u001b[0m in \u001b[0;36mdrop\u001b[1;34m(self, labels, errors)\u001b[0m\n\u001b[0;32m   5016\u001b[0m         \u001b[1;32mif\u001b[0m \u001b[0mmask\u001b[0m\u001b[1;33m.\u001b[0m\u001b[0many\u001b[0m\u001b[1;33m(\u001b[0m\u001b[1;33m)\u001b[0m\u001b[1;33m:\u001b[0m\u001b[1;33m\u001b[0m\u001b[1;33m\u001b[0m\u001b[0m\n\u001b[0;32m   5017\u001b[0m             \u001b[1;32mif\u001b[0m \u001b[0merrors\u001b[0m \u001b[1;33m!=\u001b[0m \u001b[1;34m\"ignore\"\u001b[0m\u001b[1;33m:\u001b[0m\u001b[1;33m\u001b[0m\u001b[1;33m\u001b[0m\u001b[0m\n\u001b[1;32m-> 5018\u001b[1;33m                 \u001b[1;32mraise\u001b[0m \u001b[0mKeyError\u001b[0m\u001b[1;33m(\u001b[0m\u001b[1;34mf\"{labels[mask]} not found in axis\"\u001b[0m\u001b[1;33m)\u001b[0m\u001b[1;33m\u001b[0m\u001b[1;33m\u001b[0m\u001b[0m\n\u001b[0m\u001b[0;32m   5019\u001b[0m             \u001b[0mindexer\u001b[0m \u001b[1;33m=\u001b[0m \u001b[0mindexer\u001b[0m\u001b[1;33m[\u001b[0m\u001b[1;33m~\u001b[0m\u001b[0mmask\u001b[0m\u001b[1;33m]\u001b[0m\u001b[1;33m\u001b[0m\u001b[1;33m\u001b[0m\u001b[0m\n\u001b[0;32m   5020\u001b[0m         \u001b[1;32mreturn\u001b[0m \u001b[0mself\u001b[0m\u001b[1;33m.\u001b[0m\u001b[0mdelete\u001b[0m\u001b[1;33m(\u001b[0m\u001b[0mindexer\u001b[0m\u001b[1;33m)\u001b[0m\u001b[1;33m\u001b[0m\u001b[1;33m\u001b[0m\u001b[0m\n",
      "\u001b[1;31mKeyError\u001b[0m: \"['Population' 'Average income' '#VALUE!'] not found in axis\""
     ]
    }
   ],
   "source": [
    "df_top_income = df_income.drop(['Population', 'Average income', '#VALUE!'], axis=1, inplace=True)\n"
   ]
  },
  {
   "cell_type": "code",
   "execution_count": 108,
   "metadata": {},
   "outputs": [
    {
     "data": {
      "text/html": [
       "<div>\n",
       "<style scoped>\n",
       "    .dataframe tbody tr th:only-of-type {\n",
       "        vertical-align: middle;\n",
       "    }\n",
       "\n",
       "    .dataframe tbody tr th {\n",
       "        vertical-align: top;\n",
       "    }\n",
       "\n",
       "    .dataframe thead th {\n",
       "        text-align: right;\n",
       "    }\n",
       "</style>\n",
       "<table border=\"1\" class=\"dataframe\">\n",
       "  <thead>\n",
       "    <tr style=\"text-align: right;\">\n",
       "      <th></th>\n",
       "      <th>Borough</th>\n",
       "      <th>Violent Incidents</th>\n",
       "      <th>Population</th>\n",
       "      <th>Violence Rate</th>\n",
       "      <th>Average income</th>\n",
       "      <th>Population Density</th>\n",
       "    </tr>\n",
       "  </thead>\n",
       "  <tbody>\n",
       "    <tr>\n",
       "      <th>0</th>\n",
       "      <td>Barking &amp; Dagenham</td>\n",
       "      <td>6168.0</td>\n",
       "      <td>211998.0</td>\n",
       "      <td>2909.46</td>\n",
       "      <td>23500.0</td>\n",
       "      <td>5892.71</td>\n",
       "    </tr>\n",
       "    <tr>\n",
       "      <th>1</th>\n",
       "      <td>Barnet</td>\n",
       "      <td>7365.0</td>\n",
       "      <td>392140.0</td>\n",
       "      <td>1878.16</td>\n",
       "      <td>25600.0</td>\n",
       "      <td>4577.02</td>\n",
       "    </tr>\n",
       "    <tr>\n",
       "      <th>2</th>\n",
       "      <td>Bexley</td>\n",
       "      <td>5305.0</td>\n",
       "      <td>247258.0</td>\n",
       "      <td>2145.53</td>\n",
       "      <td>26800.0</td>\n",
       "      <td>4126.71</td>\n",
       "    </tr>\n",
       "    <tr>\n",
       "      <th>3</th>\n",
       "      <td>Brent</td>\n",
       "      <td>8746.0</td>\n",
       "      <td>330795.0</td>\n",
       "      <td>2643.93</td>\n",
       "      <td>22800.0</td>\n",
       "      <td>7791.78</td>\n",
       "    </tr>\n",
       "    <tr>\n",
       "      <th>4</th>\n",
       "      <td>Bromley</td>\n",
       "      <td>6512.0</td>\n",
       "      <td>331096.0</td>\n",
       "      <td>1966.80</td>\n",
       "      <td>22800.0</td>\n",
       "      <td>2216.23</td>\n",
       "    </tr>\n",
       "  </tbody>\n",
       "</table>\n",
       "</div>"
      ],
      "text/plain": [
       "              Borough  Violent Incidents   Population  Violence Rate  \\\n",
       "0  Barking & Dagenham              6168.0    211998.0        2909.46   \n",
       "1              Barnet              7365.0    392140.0        1878.16   \n",
       "2              Bexley              5305.0    247258.0        2145.53   \n",
       "3              Brent               8746.0    330795.0        2643.93   \n",
       "4             Bromley              6512.0    331096.0        1966.80   \n",
       "\n",
       "   Average income  Population Density  \n",
       "0         23500.0             5892.71  \n",
       "1         25600.0             4577.02  \n",
       "2         26800.0             4126.71  \n",
       "3         22800.0             7791.78  \n",
       "4         22800.0             2216.23  "
      ]
     },
     "execution_count": 108,
     "metadata": {},
     "output_type": "execute_result"
    }
   ],
   "source": [
    "df_pop_density = pd.read_csv(r'C:\\Users\\Jonathan\\Documents\\Python\\Borough_Murder.csv')\n",
    "df_pop_density.head()"
   ]
  },
  {
   "cell_type": "code",
   "execution_count": 115,
   "metadata": {},
   "outputs": [
    {
     "data": {
      "text/plain": [
       "array([5.93848498e-02, 2.09385234e+03])"
      ]
     },
     "execution_count": 115,
     "metadata": {},
     "output_type": "execute_result"
    }
   ],
   "source": [
    "import numpy as np  \n",
    "\n",
    "df_pop_density.dropna(inplace=True)\n",
    "\n",
    "\n",
    "x = df_pop_density['Population Density']\n",
    "y = df_pop_density['Violence Rate']\n",
    "fit = np.polyfit(x, y, deg=1)\n",
    "\n",
    "fit"
   ]
  },
  {
   "cell_type": "code",
   "execution_count": 116,
   "metadata": {},
   "outputs": [
    {
     "ename": "TypeError",
     "evalue": "annotate() missing 1 required positional argument: 'xy'",
     "output_type": "error",
     "traceback": [
      "\u001b[1;31m---------------------------------------------------------------------------\u001b[0m",
      "\u001b[1;31mTypeError\u001b[0m                                 Traceback (most recent call last)",
      "\u001b[1;32m<ipython-input-116-20028cf06acc>\u001b[0m in \u001b[0;36m<module>\u001b[1;34m\u001b[0m\n\u001b[0;32m      7\u001b[0m \u001b[1;33m\u001b[0m\u001b[0m\n\u001b[0;32m      8\u001b[0m \u001b[0mplt\u001b[0m\u001b[1;33m.\u001b[0m\u001b[0mplot\u001b[0m\u001b[1;33m(\u001b[0m\u001b[0mx\u001b[0m\u001b[1;33m,\u001b[0m \u001b[0mfit\u001b[0m\u001b[1;33m[\u001b[0m\u001b[1;36m0\u001b[0m\u001b[1;33m]\u001b[0m \u001b[1;33m*\u001b[0m \u001b[0mx\u001b[0m \u001b[1;33m+\u001b[0m \u001b[0mfit\u001b[0m\u001b[1;33m[\u001b[0m\u001b[1;36m1\u001b[0m\u001b[1;33m]\u001b[0m\u001b[1;33m,\u001b[0m \u001b[0mcolor\u001b[0m\u001b[1;33m=\u001b[0m\u001b[1;34m'red'\u001b[0m\u001b[1;33m)\u001b[0m\u001b[1;33m\u001b[0m\u001b[1;33m\u001b[0m\u001b[0m\n\u001b[1;32m----> 9\u001b[1;33m \u001b[0mplt\u001b[0m\u001b[1;33m.\u001b[0m\u001b[0mannotate\u001b[0m\u001b[1;33m(\u001b[0m\u001b[1;34m'y={0:.0f} x + {1:.0f}'\u001b[0m\u001b[1;33m.\u001b[0m\u001b[0mformat\u001b[0m\u001b[1;33m(\u001b[0m\u001b[0mfit\u001b[0m\u001b[1;33m[\u001b[0m\u001b[1;36m0\u001b[0m\u001b[1;33m]\u001b[0m\u001b[1;33m,\u001b[0m \u001b[0mfit\u001b[0m\u001b[1;33m[\u001b[0m\u001b[1;36m1\u001b[0m\u001b[1;33m]\u001b[0m\u001b[1;33m)\u001b[0m\u001b[1;33m)\u001b[0m\u001b[1;33m\u001b[0m\u001b[1;33m\u001b[0m\u001b[0m\n\u001b[0m\u001b[0;32m     10\u001b[0m \u001b[1;33m\u001b[0m\u001b[0m\n\u001b[0;32m     11\u001b[0m \u001b[1;33m\u001b[0m\u001b[0m\n",
      "\u001b[1;31mTypeError\u001b[0m: annotate() missing 1 required positional argument: 'xy'"
     ]
    },
    {
     "data": {
      "image/png": "[encoded data removed]",
      "text/plain": [
       "<Figure size 432x288 with 1 Axes>"
      ]
     },
     "metadata": {
      "needs_background": "light"
     },
     "output_type": "display_data"
    }
   ],
   "source": [
    "df_pop_density[['Population Density', 'Violence Rate']].plot(kind='scatter',\n",
    "                                               x = 'Population Density', \n",
    "                                               y = 'Violence Rate')  \n",
    "\n",
    "plt.title('Population Density vs Rate of Violence') \n",
    "\n",
    "\n",
    "plt.plot(x, fit[0] * x + fit[1], color='red') \n",
    "plt.annotate('y={0:.0f} x + {1:.0f}'.format(fit[0], fit[1]))\n",
    "\n",
    "\n",
    "\n",
    "plt.show"
   ]
  },
  {
   "cell_type": "code",
   "execution_count": 126,
   "metadata": {},
   "outputs": [
    {
     "data": {
      "text/html": [
       "<div>\n",
       "<style scoped>\n",
       "    .dataframe tbody tr th:only-of-type {\n",
       "        vertical-align: middle;\n",
       "    }\n",
       "\n",
       "    .dataframe tbody tr th {\n",
       "        vertical-align: top;\n",
       "    }\n",
       "\n",
       "    .dataframe thead th {\n",
       "        text-align: right;\n",
       "    }\n",
       "</style>\n",
       "<table border=\"1\" class=\"dataframe\">\n",
       "  <thead>\n",
       "    <tr style=\"text-align: right;\">\n",
       "      <th></th>\n",
       "      <th>Borough</th>\n",
       "      <th>Violent Incidents</th>\n",
       "      <th>Population</th>\n",
       "      <th>Violence Rate</th>\n",
       "      <th>Average income</th>\n",
       "      <th>Population Density</th>\n",
       "      <th>Police Officers</th>\n",
       "      <th>Police Officers Per 100,000</th>\n",
       "    </tr>\n",
       "  </thead>\n",
       "  <tbody>\n",
       "    <tr>\n",
       "      <th>0</th>\n",
       "      <td>Barking &amp; Dagenham</td>\n",
       "      <td>6168.0</td>\n",
       "      <td>211998.0</td>\n",
       "      <td>2909.46</td>\n",
       "      <td>23500.0</td>\n",
       "      <td>5892.71</td>\n",
       "      <td>429.0</td>\n",
       "      <td>202.360400</td>\n",
       "    </tr>\n",
       "    <tr>\n",
       "      <th>1</th>\n",
       "      <td>Barnet</td>\n",
       "      <td>7365.0</td>\n",
       "      <td>392140.0</td>\n",
       "      <td>1878.16</td>\n",
       "      <td>25600.0</td>\n",
       "      <td>4577.02</td>\n",
       "      <td>457.0</td>\n",
       "      <td>116.540011</td>\n",
       "    </tr>\n",
       "    <tr>\n",
       "      <th>2</th>\n",
       "      <td>Bexley</td>\n",
       "      <td>5305.0</td>\n",
       "      <td>247258.0</td>\n",
       "      <td>2145.53</td>\n",
       "      <td>26800.0</td>\n",
       "      <td>4126.71</td>\n",
       "      <td>318.0</td>\n",
       "      <td>128.610601</td>\n",
       "    </tr>\n",
       "    <tr>\n",
       "      <th>3</th>\n",
       "      <td>Brent</td>\n",
       "      <td>8746.0</td>\n",
       "      <td>330795.0</td>\n",
       "      <td>2643.93</td>\n",
       "      <td>22800.0</td>\n",
       "      <td>7791.78</td>\n",
       "      <td>533.0</td>\n",
       "      <td>161.126982</td>\n",
       "    </tr>\n",
       "    <tr>\n",
       "      <th>4</th>\n",
       "      <td>Bromley</td>\n",
       "      <td>6512.0</td>\n",
       "      <td>331096.0</td>\n",
       "      <td>1966.80</td>\n",
       "      <td>22800.0</td>\n",
       "      <td>2216.23</td>\n",
       "      <td>388.0</td>\n",
       "      <td>117.186556</td>\n",
       "    </tr>\n",
       "  </tbody>\n",
       "</table>\n",
       "</div>"
      ],
      "text/plain": [
       "              Borough  Violent Incidents   Population  Violence Rate  \\\n",
       "0  Barking & Dagenham              6168.0    211998.0        2909.46   \n",
       "1              Barnet              7365.0    392140.0        1878.16   \n",
       "2              Bexley              5305.0    247258.0        2145.53   \n",
       "3              Brent               8746.0    330795.0        2643.93   \n",
       "4             Bromley              6512.0    331096.0        1966.80   \n",
       "\n",
       "   Average income  Population Density  Police Officers  \\\n",
       "0         23500.0             5892.71            429.0   \n",
       "1         25600.0             4577.02            457.0   \n",
       "2         26800.0             4126.71            318.0   \n",
       "3         22800.0             7791.78            533.0   \n",
       "4         22800.0             2216.23            388.0   \n",
       "\n",
       "   Police Officers Per 100,000  \n",
       "0                   202.360400  \n",
       "1                   116.540011  \n",
       "2                   128.610601  \n",
       "3                   161.126982  \n",
       "4                   117.186556  "
      ]
     },
     "execution_count": 126,
     "metadata": {},
     "output_type": "execute_result"
    }
   ],
   "source": [
    "df_police_number = pd.read_csv(r'C:\\Users\\Jonathan\\Documents\\Python\\Borough_Murder.csv')\n",
    "df_police_number.head()"
   ]
  },
  {
   "cell_type": "code",
   "execution_count": 127,
   "metadata": {},
   "outputs": [
    {
     "data": {
      "text/plain": [
       "array([ 11.33503057, 441.7435172 ])"
      ]
     },
     "execution_count": 127,
     "metadata": {},
     "output_type": "execute_result"
    }
   ],
   "source": [
    "import numpy as np  \n",
    "\n",
    "df_police_number.dropna(inplace=True)\n",
    "\n",
    "\n",
    "x = df_police_number['Police Officers Per 100,000']\n",
    "y = df_police_number['Violence Rate']\n",
    "fit = np.polyfit(x, y, deg=1)\n",
    "\n",
    "fit"
   ]
  },
  {
   "cell_type": "code",
   "execution_count": 129,
   "metadata": {},
   "outputs": [
    {
     "ename": "TypeError",
     "evalue": "annotate() missing 1 required positional argument: 'xy'",
     "output_type": "error",
     "traceback": [
      "\u001b[1;31m---------------------------------------------------------------------------\u001b[0m",
      "\u001b[1;31mTypeError\u001b[0m                                 Traceback (most recent call last)",
      "\u001b[1;32m<ipython-input-129-2c982874f4b0>\u001b[0m in \u001b[0;36m<module>\u001b[1;34m\u001b[0m\n\u001b[0;32m      7\u001b[0m \u001b[1;33m\u001b[0m\u001b[0m\n\u001b[0;32m      8\u001b[0m \u001b[0mplt\u001b[0m\u001b[1;33m.\u001b[0m\u001b[0mplot\u001b[0m\u001b[1;33m(\u001b[0m\u001b[0mx\u001b[0m\u001b[1;33m,\u001b[0m \u001b[0mfit\u001b[0m\u001b[1;33m[\u001b[0m\u001b[1;36m0\u001b[0m\u001b[1;33m]\u001b[0m \u001b[1;33m*\u001b[0m \u001b[0mx\u001b[0m \u001b[1;33m+\u001b[0m \u001b[0mfit\u001b[0m\u001b[1;33m[\u001b[0m\u001b[1;36m1\u001b[0m\u001b[1;33m]\u001b[0m\u001b[1;33m,\u001b[0m \u001b[0mcolor\u001b[0m\u001b[1;33m=\u001b[0m\u001b[1;34m'red'\u001b[0m\u001b[1;33m)\u001b[0m\u001b[1;33m\u001b[0m\u001b[1;33m\u001b[0m\u001b[0m\n\u001b[1;32m----> 9\u001b[1;33m \u001b[0mplt\u001b[0m\u001b[1;33m.\u001b[0m\u001b[0mannotate\u001b[0m\u001b[1;33m(\u001b[0m\u001b[1;34m'y={0:.0f} x + {1:.0f}'\u001b[0m\u001b[1;33m.\u001b[0m\u001b[0mformat\u001b[0m\u001b[1;33m(\u001b[0m\u001b[0mfit\u001b[0m\u001b[1;33m[\u001b[0m\u001b[1;36m0\u001b[0m\u001b[1;33m]\u001b[0m\u001b[1;33m,\u001b[0m \u001b[0mfit\u001b[0m\u001b[1;33m[\u001b[0m\u001b[1;36m1\u001b[0m\u001b[1;33m]\u001b[0m\u001b[1;33m)\u001b[0m\u001b[1;33m)\u001b[0m\u001b[1;33m\u001b[0m\u001b[1;33m\u001b[0m\u001b[0m\n\u001b[0m\u001b[0;32m     10\u001b[0m \u001b[1;33m\u001b[0m\u001b[0m\n\u001b[0;32m     11\u001b[0m \u001b[1;33m\u001b[0m\u001b[0m\n",
      "\u001b[1;31mTypeError\u001b[0m: annotate() missing 1 required positional argument: 'xy'"
     ]
    },
    {
     "data": {
      "image/png": "[encoded data removed]",
      "text/plain": [
       "<Figure size 432x288 with 1 Axes>"
      ]
     },
     "metadata": {
      "needs_background": "light"
     },
     "output_type": "display_data"
    }
   ],
   "source": [
    "df_police_number[['Police Officers Per 100,000', 'Violence Rate']].plot(kind='scatter',\n",
    "                                               x = 'Police Officers Per 100,000', \n",
    "                                               y = 'Violence Rate')  \n",
    "\n",
    "plt.title('Police Officers Per 100,000 vs Rate of Violence') \n",
    "\n",
    "\n",
    "plt.plot(x, fit[0] * x + fit[1], color='red') \n",
    "plt.annotate('y={0:.0f} x + {1:.0f}'.format(fit[0], fit[1]))\n",
    "\n",
    "\n",
    "\n",
    "plt.show"
   ]
  },
  {
   "cell_type": "code",
   "execution_count": 130,
   "metadata": {},
   "outputs": [
    {
     "data": {
      "text/html": [
       "<div>\n",
       "<style scoped>\n",
       "    .dataframe tbody tr th:only-of-type {\n",
       "        vertical-align: middle;\n",
       "    }\n",
       "\n",
       "    .dataframe tbody tr th {\n",
       "        vertical-align: top;\n",
       "    }\n",
       "\n",
       "    .dataframe thead th {\n",
       "        text-align: right;\n",
       "    }\n",
       "</style>\n",
       "<table border=\"1\" class=\"dataframe\">\n",
       "  <thead>\n",
       "    <tr style=\"text-align: right;\">\n",
       "      <th></th>\n",
       "      <th>Borough</th>\n",
       "      <th>Violent Incidents</th>\n",
       "      <th>Population</th>\n",
       "      <th>Violence Rate</th>\n",
       "      <th>Average income</th>\n",
       "      <th>Population Density</th>\n",
       "      <th>Police Officers</th>\n",
       "      <th>Police Officers Per 100,000</th>\n",
       "    </tr>\n",
       "  </thead>\n",
       "  <tbody>\n",
       "    <tr>\n",
       "      <th>0</th>\n",
       "      <td>Barking &amp; Dagenham</td>\n",
       "      <td>6168.0</td>\n",
       "      <td>211998.0</td>\n",
       "      <td>2909.46</td>\n",
       "      <td>23500.0</td>\n",
       "      <td>5892.71</td>\n",
       "      <td>429.0</td>\n",
       "      <td>202.360400</td>\n",
       "    </tr>\n",
       "    <tr>\n",
       "      <th>1</th>\n",
       "      <td>Barnet</td>\n",
       "      <td>7365.0</td>\n",
       "      <td>392140.0</td>\n",
       "      <td>1878.16</td>\n",
       "      <td>25600.0</td>\n",
       "      <td>4577.02</td>\n",
       "      <td>457.0</td>\n",
       "      <td>116.540011</td>\n",
       "    </tr>\n",
       "    <tr>\n",
       "      <th>2</th>\n",
       "      <td>Bexley</td>\n",
       "      <td>5305.0</td>\n",
       "      <td>247258.0</td>\n",
       "      <td>2145.53</td>\n",
       "      <td>26800.0</td>\n",
       "      <td>4126.71</td>\n",
       "      <td>318.0</td>\n",
       "      <td>128.610601</td>\n",
       "    </tr>\n",
       "    <tr>\n",
       "      <th>3</th>\n",
       "      <td>Brent</td>\n",
       "      <td>8746.0</td>\n",
       "      <td>330795.0</td>\n",
       "      <td>2643.93</td>\n",
       "      <td>22800.0</td>\n",
       "      <td>7791.78</td>\n",
       "      <td>533.0</td>\n",
       "      <td>161.126982</td>\n",
       "    </tr>\n",
       "    <tr>\n",
       "      <th>4</th>\n",
       "      <td>Bromley</td>\n",
       "      <td>6512.0</td>\n",
       "      <td>331096.0</td>\n",
       "      <td>1966.80</td>\n",
       "      <td>22800.0</td>\n",
       "      <td>2216.23</td>\n",
       "      <td>388.0</td>\n",
       "      <td>117.186556</td>\n",
       "    </tr>\n",
       "  </tbody>\n",
       "</table>\n",
       "</div>"
      ],
      "text/plain": [
       "              Borough  Violent Incidents   Population  Violence Rate  \\\n",
       "0  Barking & Dagenham              6168.0    211998.0        2909.46   \n",
       "1              Barnet              7365.0    392140.0        1878.16   \n",
       "2              Bexley              5305.0    247258.0        2145.53   \n",
       "3              Brent               8746.0    330795.0        2643.93   \n",
       "4             Bromley              6512.0    331096.0        1966.80   \n",
       "\n",
       "   Average income  Population Density  Police Officers  \\\n",
       "0         23500.0             5892.71            429.0   \n",
       "1         25600.0             4577.02            457.0   \n",
       "2         26800.0             4126.71            318.0   \n",
       "3         22800.0             7791.78            533.0   \n",
       "4         22800.0             2216.23            388.0   \n",
       "\n",
       "   Police Officers Per 100,000  \n",
       "0                   202.360400  \n",
       "1                   116.540011  \n",
       "2                   128.610601  \n",
       "3                   161.126982  \n",
       "4                   117.186556  "
      ]
     },
     "execution_count": 130,
     "metadata": {},
     "output_type": "execute_result"
    }
   ],
   "source": [
    "df_police_number.head()"
   ]
  },
  {
   "cell_type": "code",
   "execution_count": 140,
   "metadata": {},
   "outputs": [
    {
     "data": {
      "text/html": [
       "<div>\n",
       "<style scoped>\n",
       "    .dataframe tbody tr th:only-of-type {\n",
       "        vertical-align: middle;\n",
       "    }\n",
       "\n",
       "    .dataframe tbody tr th {\n",
       "        vertical-align: top;\n",
       "    }\n",
       "\n",
       "    .dataframe thead th {\n",
       "        text-align: right;\n",
       "    }\n",
       "</style>\n",
       "<table border=\"1\" class=\"dataframe\">\n",
       "  <thead>\n",
       "    <tr style=\"text-align: right;\">\n",
       "      <th></th>\n",
       "      <th>Borough</th>\n",
       "      <th>Violent Incidents</th>\n",
       "      <th>Population</th>\n",
       "      <th>Violence Rate</th>\n",
       "      <th>Average income</th>\n",
       "      <th>Population Density</th>\n",
       "      <th>Police Officers</th>\n",
       "      <th>Police Officers Per 100,000</th>\n",
       "      <th>Poverty Rate</th>\n",
       "    </tr>\n",
       "  </thead>\n",
       "  <tbody>\n",
       "    <tr>\n",
       "      <th>0</th>\n",
       "      <td>Barking &amp; Dagenham</td>\n",
       "      <td>6168.0</td>\n",
       "      <td>211998.0</td>\n",
       "      <td>2909.46</td>\n",
       "      <td>23500.0</td>\n",
       "      <td>5892.71</td>\n",
       "      <td>429.0</td>\n",
       "      <td>202.360400</td>\n",
       "      <td>0.28</td>\n",
       "    </tr>\n",
       "    <tr>\n",
       "      <th>1</th>\n",
       "      <td>Barnet</td>\n",
       "      <td>7365.0</td>\n",
       "      <td>392140.0</td>\n",
       "      <td>1878.16</td>\n",
       "      <td>25600.0</td>\n",
       "      <td>4577.02</td>\n",
       "      <td>457.0</td>\n",
       "      <td>116.540011</td>\n",
       "      <td>0.23</td>\n",
       "    </tr>\n",
       "    <tr>\n",
       "      <th>2</th>\n",
       "      <td>Bexley</td>\n",
       "      <td>5305.0</td>\n",
       "      <td>247258.0</td>\n",
       "      <td>2145.53</td>\n",
       "      <td>26800.0</td>\n",
       "      <td>4126.71</td>\n",
       "      <td>318.0</td>\n",
       "      <td>128.610601</td>\n",
       "      <td>0.16</td>\n",
       "    </tr>\n",
       "    <tr>\n",
       "      <th>3</th>\n",
       "      <td>Brent</td>\n",
       "      <td>8746.0</td>\n",
       "      <td>330795.0</td>\n",
       "      <td>2643.93</td>\n",
       "      <td>22800.0</td>\n",
       "      <td>7791.78</td>\n",
       "      <td>533.0</td>\n",
       "      <td>161.126982</td>\n",
       "      <td>0.33</td>\n",
       "    </tr>\n",
       "    <tr>\n",
       "      <th>4</th>\n",
       "      <td>Bromley</td>\n",
       "      <td>6512.0</td>\n",
       "      <td>331096.0</td>\n",
       "      <td>1966.80</td>\n",
       "      <td>22800.0</td>\n",
       "      <td>2216.23</td>\n",
       "      <td>388.0</td>\n",
       "      <td>117.186556</td>\n",
       "      <td>0.15</td>\n",
       "    </tr>\n",
       "  </tbody>\n",
       "</table>\n",
       "</div>"
      ],
      "text/plain": [
       "              Borough  Violent Incidents   Population  Violence Rate  \\\n",
       "0  Barking & Dagenham              6168.0    211998.0        2909.46   \n",
       "1              Barnet              7365.0    392140.0        1878.16   \n",
       "2              Bexley              5305.0    247258.0        2145.53   \n",
       "3              Brent               8746.0    330795.0        2643.93   \n",
       "4             Bromley              6512.0    331096.0        1966.80   \n",
       "\n",
       "   Average income  Population Density  Police Officers  \\\n",
       "0         23500.0             5892.71            429.0   \n",
       "1         25600.0             4577.02            457.0   \n",
       "2         26800.0             4126.71            318.0   \n",
       "3         22800.0             7791.78            533.0   \n",
       "4         22800.0             2216.23            388.0   \n",
       "\n",
       "   Police Officers Per 100,000  Poverty Rate  \n",
       "0                   202.360400          0.28  \n",
       "1                   116.540011          0.23  \n",
       "2                   128.610601          0.16  \n",
       "3                   161.126982          0.33  \n",
       "4                   117.186556          0.15  "
      ]
     },
     "execution_count": 140,
     "metadata": {},
     "output_type": "execute_result"
    }
   ],
   "source": [
    "df_poverty = pd.read_csv(r'C:\\Users\\Jonathan\\Documents\\Python\\Borough_Murder.csv')\n",
    "df_poverty.head()\n"
   ]
  },
  {
   "cell_type": "code",
   "execution_count": 143,
   "metadata": {},
   "outputs": [
    {
     "data": {
      "text/plain": [
       "array([5379.18553621, 1144.1197054 ])"
      ]
     },
     "execution_count": 143,
     "metadata": {},
     "output_type": "execute_result"
    }
   ],
   "source": [
    "df_poverty.dropna(inplace=True)\n",
    "\n",
    "x = df_poverty['Poverty Rate']\n",
    "y = df_poverty['Violence Rate']\n",
    "fit = np.polyfit(x, y, deg=1)\n",
    "\n",
    "fit\n",
    " \n",
    "    "
   ]
  },
  {
   "cell_type": "code",
   "execution_count": 145,
   "metadata": {},
   "outputs": [
    {
     "ename": "TypeError",
     "evalue": "annotate() missing 1 required positional argument: 'xy'",
     "output_type": "error",
     "traceback": [
      "\u001b[1;31m---------------------------------------------------------------------------\u001b[0m",
      "\u001b[1;31mTypeError\u001b[0m                                 Traceback (most recent call last)",
      "\u001b[1;32m<ipython-input-145-2639011e5944>\u001b[0m in \u001b[0;36m<module>\u001b[1;34m\u001b[0m\n\u001b[0;32m      7\u001b[0m \u001b[1;33m\u001b[0m\u001b[0m\n\u001b[0;32m      8\u001b[0m \u001b[0mplt\u001b[0m\u001b[1;33m.\u001b[0m\u001b[0mplot\u001b[0m\u001b[1;33m(\u001b[0m\u001b[0mx\u001b[0m\u001b[1;33m,\u001b[0m \u001b[0mfit\u001b[0m\u001b[1;33m[\u001b[0m\u001b[1;36m0\u001b[0m\u001b[1;33m]\u001b[0m \u001b[1;33m*\u001b[0m \u001b[0mx\u001b[0m \u001b[1;33m+\u001b[0m \u001b[0mfit\u001b[0m\u001b[1;33m[\u001b[0m\u001b[1;36m1\u001b[0m\u001b[1;33m]\u001b[0m\u001b[1;33m,\u001b[0m \u001b[0mcolor\u001b[0m\u001b[1;33m=\u001b[0m\u001b[1;34m'red'\u001b[0m\u001b[1;33m)\u001b[0m\u001b[1;33m\u001b[0m\u001b[1;33m\u001b[0m\u001b[0m\n\u001b[1;32m----> 9\u001b[1;33m \u001b[0mplt\u001b[0m\u001b[1;33m.\u001b[0m\u001b[0mannotate\u001b[0m\u001b[1;33m(\u001b[0m\u001b[1;34m'y={0:.0f} x + {1:.0f}'\u001b[0m\u001b[1;33m.\u001b[0m\u001b[0mformat\u001b[0m\u001b[1;33m(\u001b[0m\u001b[0mfit\u001b[0m\u001b[1;33m[\u001b[0m\u001b[1;36m0\u001b[0m\u001b[1;33m]\u001b[0m\u001b[1;33m,\u001b[0m \u001b[0mfit\u001b[0m\u001b[1;33m[\u001b[0m\u001b[1;36m1\u001b[0m\u001b[1;33m]\u001b[0m\u001b[1;33m)\u001b[0m\u001b[1;33m)\u001b[0m\u001b[1;33m\u001b[0m\u001b[1;33m\u001b[0m\u001b[0m\n\u001b[0m\u001b[0;32m     10\u001b[0m \u001b[1;33m\u001b[0m\u001b[0m\n\u001b[0;32m     11\u001b[0m \u001b[1;33m\u001b[0m\u001b[0m\n",
      "\u001b[1;31mTypeError\u001b[0m: annotate() missing 1 required positional argument: 'xy'"
     ]
    },
    {
     "data": {
      "image/png": "[encoded data removed]",
      "text/plain": [
       "<Figure size 432x288 with 1 Axes>"
      ]
     },
     "metadata": {
      "needs_background": "light"
     },
     "output_type": "display_data"
    }
   ],
   "source": [
    "df_poverty[['Poverty Rate', 'Violence Rate']].plot(kind='scatter',\n",
    "                                               x = 'Poverty Rate', \n",
    "                                               y = 'Violence Rate')  \n",
    "\n",
    "plt.title('Poverty Rate vs Rate of Violence') \n",
    "\n",
    "\n",
    "plt.plot(x, fit[0] * x + fit[1], color='red') \n",
    "plt.annotate('y={0:.0f} x + {1:.0f}'.format(fit[0], fit[1]))\n",
    "\n",
    "\n",
    "\n",
    "plt.show"
   ]
  },
  {
   "cell_type": "code",
   "execution_count": 146,
   "metadata": {},
   "outputs": [],
   "source": [
    "df_crime_met = pd.read_csv(r'C:\\Users\\Jonathan\\Documents\\Python\\Met_Folium.csv')"
   ]
  },
  {
   "cell_type": "code",
   "execution_count": 148,
   "metadata": {},
   "outputs": [],
   "source": [
    "df_met_crime = df_crime_met[['Longitude', 'Latitude', 'Month']]"
   ]
  },
  {
   "cell_type": "code",
   "execution_count": null,
   "metadata": {},
   "outputs": [],
   "source": []
  },
  {
   "cell_type": "code",
   "execution_count": null,
   "metadata": {
    "scrolled": true
   },
   "outputs": [],
   "source": []
  },
  {
   "cell_type": "code",
   "execution_count": null,
   "metadata": {},
   "outputs": [],
   "source": []
  }
 ],
 "metadata": {
  "kernelspec": {
   "display_name": "Python 3",
   "language": "python",
   "name": "python3"
  },
  "language_info": {
   "codemirror_mode": {
    "name": "ipython",
    "version": 3
   },
   "file_extension": ".py",
   "mimetype": "text/x-python",
   "name": "python",
   "nbconvert_exporter": "python",
   "pygments_lexer": "ipython3",
   "version": "3.7.6"
  }
 },
 "nbformat": 4,
 "nbformat_minor": 4
}
